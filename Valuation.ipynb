{
 "cells": [
  {
   "cell_type": "markdown",
   "metadata": {},
   "source": [
    "Revenue growth rate"
   ]
  },
  {
   "cell_type": "code",
   "execution_count": 23,
   "metadata": {},
   "outputs": [],
   "source": [
    "# Inputs\n",
    "rev_gr_1 = 12/100  # Revenue growth rate for year 1\n",
    "cagr_2_5 = 12/100   # CAGR for years 2-5\n",
    "risk_free_rate = 4.08/100 # Risk free rate\n",
    "rev_r12m = 574785 # Revenue for the last 12 months (in millions)\n",
    "ebit_r12m = 36852 # EBIT for the last 12 months (in millions)\n",
    "rnd_amr_yrs = 3 # R&D amortization years\n",
    "curr_rnd = 85622 # Current R&D (in millions)\n",
    "prev_rnd = [73213, 56052, 42740, 0, 0, 0, 0, 0, 0, 0] # Previous R&D (in millions)\n",
    "#ebit_margin_1 = 11.33/100 # Operating margin for year 1 \n",
    "tgt_ebit_margin = 14/100 # Target Pre-tax Operating margin\n",
    "yr_conv_margin = 5 # Years to convert to target margin\n",
    "eff_tx_rate = 19/100 # Effective tax rate\n",
    "mar_tax_rate = 25/100 # Marginal tax rate\n",
    "sales_to_cap_1_5 = 1.5 # Sales to capital ratio Years 1-5\n",
    "sales_to_cap_6_10 = 1.5 # Sales to capital ratio Years 6-10\n",
    "mature_market_erp = 4.11/100 # Mature market ERP (Damodaran)\n",
    "country_risk_premium = 0 # Country ERP (For US)\n",
    "cost_of_capital = 8.6/100 # Cost of capital"
   ]
  },
  {
   "cell_type": "markdown",
   "metadata": {},
   "source": [
    "Growth rates list"
   ]
  },
  {
   "cell_type": "code",
   "execution_count": 3,
   "metadata": {},
   "outputs": [
    {
     "name": "stdout",
     "output_type": "stream",
     "text": [
      "[0.12, 0.12, 0.12, 0.12, 0.12, 0.10416, 0.08832, 0.07247999999999999, 0.056639999999999996, 0.0408]\n"
     ]
    }
   ],
   "source": [
    "# Create a list of 10 growth rates\n",
    "growth_rates = [rev_gr_1]  # First year growth rate\n",
    "\n",
    "# Year two to five will be cagr_2_5\n",
    "growth_rates.extend([cagr_2_5] * 4)\n",
    "\n",
    "# Calculate the decrement for years six to ten\n",
    "decrement = (cagr_2_5 - risk_free_rate) / 5\n",
    "\n",
    "# Year six to ten growth rates\n",
    "for i in range(1, 6):\n",
    "    growth_rates.append(cagr_2_5 - decrement * i)\n",
    "\n",
    "print(growth_rates)"
   ]
  },
  {
   "cell_type": "markdown",
   "metadata": {},
   "source": [
    "Revenues list"
   ]
  },
  {
   "cell_type": "code",
   "execution_count": 4,
   "metadata": {},
   "outputs": [
    {
     "name": "stdout",
     "output_type": "stream",
     "text": [
      "[643759.2000000001, 721010.3040000001, 807531.5404800002, 904435.3253376003, 1012967.5643781124, 1118478.2658837365, 1217262.266326588, 1305489.4353899392, 1379432.3570104255, 1435713.1971764509]\n"
     ]
    }
   ],
   "source": [
    "revenues = [rev_r12m * (1 + growth_rates[0])]  # Revenue for year 1\n",
    "\n",
    "# Calculate revenues for subsequent years\n",
    "for i in range(1, len(growth_rates)):\n",
    "    revenues.append(revenues[-1] * (1 + growth_rates[i]))\n",
    "\n",
    "print(revenues) "
   ]
  },
  {
   "cell_type": "markdown",
   "metadata": {},
   "source": [
    "Amortization weights"
   ]
  },
  {
   "cell_type": "code",
   "execution_count": 5,
   "metadata": {},
   "outputs": [
    {
     "name": "stdout",
     "output_type": "stream",
     "text": [
      "[1.0, 0.6666666666666666, 0.3333333333333333]\n"
     ]
    }
   ],
   "source": [
    "# Calculate the number of non-zero entries in prev_rnd\n",
    "non_zero_entries = sum(1 for rnd in prev_rnd if rnd != 0)\n",
    "\n",
    "# Calculate the amortization weights\n",
    "amortization_weights = [i / non_zero_entries for i in range(non_zero_entries, 0, -1)]\n",
    "\n",
    "print(amortization_weights)"
   ]
  },
  {
   "cell_type": "code",
   "execution_count": 6,
   "metadata": {},
   "outputs": [
    {
     "data": {
      "text/plain": [
       "153114.66666666666"
      ]
     },
     "execution_count": 6,
     "metadata": {},
     "output_type": "execute_result"
    }
   ],
   "source": [
    "# Value of research asset\n",
    "val_rnd = sum(a * b for a, b in zip(([curr_rnd] + prev_rnd)[:len(amortization_weights)], amortization_weights))\n",
    "val_rnd"
   ]
  },
  {
   "cell_type": "code",
   "execution_count": 7,
   "metadata": {},
   "outputs": [
    {
     "data": {
      "text/plain": [
       "57335.0"
      ]
     },
     "execution_count": 7,
     "metadata": {},
     "output_type": "execute_result"
    }
   ],
   "source": [
    "#Amortization for this year\n",
    "sum_prev_rnd = sum([rnd / rnd_amr_yrs for rnd in prev_rnd])\n",
    "sum_prev_rnd"
   ]
  },
  {
   "cell_type": "code",
   "execution_count": 8,
   "metadata": {},
   "outputs": [
    {
     "data": {
      "text/plain": [
       "28287.0"
      ]
     },
     "execution_count": 8,
     "metadata": {},
     "output_type": "execute_result"
    }
   ],
   "source": [
    "# Adjustment to EBIT due to R&D\n",
    "adj_ebit = curr_rnd - sum_prev_rnd\n",
    "adj_ebit"
   ]
  },
  {
   "cell_type": "markdown",
   "metadata": {},
   "source": [
    "Adjusted operating income"
   ]
  },
  {
   "cell_type": "code",
   "execution_count": 9,
   "metadata": {},
   "outputs": [
    {
     "data": {
      "text/plain": [
       "65139.0"
      ]
     },
     "execution_count": 9,
     "metadata": {},
     "output_type": "execute_result"
    }
   ],
   "source": [
    "# Adjusted EBIT (Base Year)\n",
    "if curr_rnd != 0:\n",
    "    ebit_adj = ebit_r12m + adj_ebit\n",
    "else: \n",
    "    ebit_adj = ebit_r12m\n",
    "ebit_adj"
   ]
  },
  {
   "cell_type": "markdown",
   "metadata": {},
   "source": [
    "Operating Margins"
   ]
  },
  {
   "cell_type": "code",
   "execution_count": 10,
   "metadata": {},
   "outputs": [],
   "source": [
    "ebit_margin_0 = ebit_adj / rev_r12m\n",
    "ebit_margin_1 = ebit_margin_0 # Assuming same margin for year 1"
   ]
  },
  {
   "cell_type": "code",
   "execution_count": 11,
   "metadata": {},
   "outputs": [
    {
     "name": "stdout",
     "output_type": "stream",
     "text": [
      "[0.11332759205616012, 0.12399655523369607, 0.12933103682246405, 0.13466551841123203, 0.14, 0.14, 0.14, 0.14, 0.14, 0.14, 0.14]\n"
     ]
    }
   ],
   "source": [
    "# Initialize the list with the operating margin for the first year\n",
    "operating_margins = [ebit_margin_1]\n",
    "\n",
    "# Calculate the step change for the operating margin\n",
    "step_change = (tgt_ebit_margin - ebit_margin_1) / (yr_conv_margin)\n",
    "\n",
    "# Calculate the operating margins for years 2 to the year of convergence\n",
    "for i in range(1, yr_conv_margin):\n",
    "    operating_margins.append(tgt_ebit_margin - step_change*(yr_conv_margin - i - 1))\n",
    "\n",
    "# From the year of convergence onwards, the operating margin remains the same as the target one\n",
    "operating_margins.extend([tgt_ebit_margin] * (10 - yr_conv_margin + 1))\n",
    "\n",
    "print(operating_margins)"
   ]
  },
  {
   "cell_type": "markdown",
   "metadata": {},
   "source": [
    "Operating Income"
   ]
  },
  {
   "cell_type": "code",
   "execution_count": 12,
   "metadata": {},
   "outputs": [
    {
     "name": "stdout",
     "output_type": "stream",
     "text": [
      "[72955.68000000001, 89402.793984, 104438.89139712002, 121796.25195601924, 141815.45901293575, 156586.95722372312, 170416.71728572235, 182768.5209545915, 193120.5299814596, 200999.84760470313]\n"
     ]
    }
   ],
   "source": [
    "ebits = [revenue * margin for revenue, margin in zip(revenues, operating_margins)]\n",
    "print(ebits)"
   ]
  },
  {
   "cell_type": "code",
   "execution_count": 13,
   "metadata": {},
   "outputs": [
    {
     "name": "stdout",
     "output_type": "stream",
     "text": [
      "[0.19, 0.19, 0.19, 0.19, 0.19, 0.202, 0.214, 0.226, 0.238, 0.25]\n"
     ]
    }
   ],
   "source": [
    "# Initialize the list with the effective tax rate for the first 5 years\n",
    "tax_rates = [eff_tx_rate] * 5\n",
    "\n",
    "# Calculate the step change for the tax rate\n",
    "tax_rate_step_change = (mar_tax_rate - eff_tx_rate) / 5\n",
    "\n",
    "# Calculate the tax rates for years 6 to 10\n",
    "for i in range(1, 6):\n",
    "    tax_rates.append(eff_tx_rate + tax_rate_step_change * i)\n",
    "\n",
    "print(tax_rates)"
   ]
  },
  {
   "cell_type": "markdown",
   "metadata": {},
   "source": [
    "EBIT(1-tax)"
   ]
  },
  {
   "cell_type": "code",
   "execution_count": 14,
   "metadata": {},
   "outputs": [
    {
     "name": "stdout",
     "output_type": "stream",
     "text": [
      "[59094.10080000001, 72416.26312704, 84595.50203166723, 98654.96408437559, 114870.52180047797, 124956.39186453106, 133947.53978657778, 141462.83521885384, 147157.8438458722, 150749.88570352734]\n"
     ]
    }
   ],
   "source": [
    "ebit_minus_tax = [ebit * (1 - tax_rate) for ebit, tax_rate in zip(ebits, tax_rates)]\n",
    "print(ebit_minus_tax)"
   ]
  },
  {
   "cell_type": "markdown",
   "metadata": {},
   "source": [
    "Reinvestment"
   ]
  },
  {
   "cell_type": "code",
   "execution_count": null,
   "metadata": {},
   "outputs": [],
   "source": []
  },
  {
   "cell_type": "code",
   "execution_count": 16,
   "metadata": {},
   "outputs": [
    {
     "name": "stdout",
     "output_type": "stream",
     "text": [
      "[51500.73600000003, 57680.82432000005, 64602.52323840008, 72354.82602700808, 70340.46767041607, 65856.00029523438, 58818.11270890074, 49295.2810803242, 37520.56011068355, 39051.39896319946]\n"
     ]
    }
   ],
   "source": [
    "# Initialize the list of reinvestment\n",
    "reinvestment = []\n",
    "\n",
    "# Calculate reinvestment for years 1 to 5 using sales_to_cap_1_5\n",
    "for i in range(5):\n",
    "    reinvestment.append((revenues[i + 1] - revenues[i]) / sales_to_cap_1_5)\n",
    "\n",
    "# Calculate reinvestment for years 6 to 9 using sales_to_cap_6_10\n",
    "for i in range(5, 9):\n",
    "    reinvestment.append((revenues[i + 1] - revenues[i]) / sales_to_cap_6_10)\n",
    "\n",
    "# Calculate terminal year revenue\n",
    "terminal_year_revenue = revenues[9] * (1 + risk_free_rate)\n",
    "\n",
    "# Calculate reinvestment for year 10\n",
    "reinvestment.append((terminal_year_revenue - revenues[9]) / sales_to_cap_6_10)\n",
    "\n",
    "print(reinvestment)"
   ]
  },
  {
   "cell_type": "markdown",
   "metadata": {},
   "source": [
    "FCFF"
   ]
  },
  {
   "cell_type": "code",
   "execution_count": 19,
   "metadata": {},
   "outputs": [
    {
     "name": "stdout",
     "output_type": "stream",
     "text": [
      "[7593.364799999974, 14735.438807039951, 19992.978793267153, 26300.138057367512, 44530.05413006191, 59100.391569296684, 75129.42707767704, 92167.55413852964, 109637.28373518866, 111698.48674032788]\n"
     ]
    }
   ],
   "source": [
    "fcff = [ebit - reinvest for ebit, reinvest in zip(ebit_minus_tax, reinvestment)]\n",
    "print(fcff)"
   ]
  },
  {
   "cell_type": "markdown",
   "metadata": {},
   "source": [
    "Terminal cost of capital"
   ]
  },
  {
   "cell_type": "code",
   "execution_count": 22,
   "metadata": {},
   "outputs": [],
   "source": [
    "terminal_cost_of_capital = risk_free_rate + mature_market_erp + country_risk_premium"
   ]
  },
  {
   "cell_type": "code",
   "execution_count": 24,
   "metadata": {},
   "outputs": [
    {
     "name": "stdout",
     "output_type": "stream",
     "text": [
      "[0.086, 0.086, 0.086, 0.086, 0.086, 0.08517999999999999, 0.08435999999999999, 0.08354, 0.08272, 0.0819]\n"
     ]
    }
   ],
   "source": [
    "# Initialize the list with the cost of capital for the first 5 years\n",
    "cost_of_capital_list = [cost_of_capital] * 5\n",
    "\n",
    "# Calculate the step change for the cost of capital\n",
    "cost_of_capital_step_change = (terminal_cost_of_capital - cost_of_capital) / 5\n",
    "\n",
    "# Calculate the cost of capital for years 6 to 10\n",
    "for i in range(1, 6):\n",
    "    cost_of_capital_list.append(cost_of_capital + cost_of_capital_step_change * i)\n",
    "\n",
    "print(cost_of_capital_list)"
   ]
  },
  {
   "cell_type": "code",
   "execution_count": 25,
   "metadata": {},
   "outputs": [
    {
     "name": "stdout",
     "output_type": "stream",
     "text": [
      "[0.9208103130755064, 0.8478916326662121, 0.7807473597294771, 0.7189202207453748, 0.6619891535408607, 0.6100270494672412, 0.562568749739239, 0.5191951840626456, 0.4795285799307722, 0.44322819108122025]\n"
     ]
    }
   ],
   "source": [
    "# Initialize the list of discount factors with the first year's discount factor\n",
    "discount_factors = [1 / (1 + cost_of_capital_list[0])]\n",
    "\n",
    "# Calculate the discount factors for subsequent years\n",
    "for i in range(1, 10):\n",
    "    discount_factors.append(discount_factors[-1] / (1 + cost_of_capital_list[i]))\n",
    "\n",
    "print(discount_factors)"
   ]
  },
  {
   "cell_type": "markdown",
   "metadata": {},
   "source": [
    "Present value of FCFF"
   ]
  },
  {
   "cell_type": "code",
   "execution_count": 26,
   "metadata": {},
   "outputs": [
    {
     "name": "stdout",
     "output_type": "stream",
     "text": [
      "[6992.048618784506, 12494.055268154165, 15609.465405970757, 18907.701057836483, 29478.412840688394, 36052.837491376675, 42265.4678597141, 47852.95023555775, 52574.21097700216, 49507.91822442519]\n"
     ]
    }
   ],
   "source": [
    "pv_fcff = [fcf * discount_factor for fcf, discount_factor in zip(fcff, discount_factors)]\n",
    "print(pv_fcff)"
   ]
  },
  {
   "cell_type": "code",
   "execution_count": null,
   "metadata": {},
   "outputs": [],
   "source": []
  }
 ],
 "metadata": {
  "kernelspec": {
   "display_name": "Python 3",
   "language": "python",
   "name": "python3"
  },
  "language_info": {
   "codemirror_mode": {
    "name": "ipython",
    "version": 3
   },
   "file_extension": ".py",
   "mimetype": "text/x-python",
   "name": "python",
   "nbconvert_exporter": "python",
   "pygments_lexer": "ipython3",
   "version": "3.12.8"
  }
 },
 "nbformat": 4,
 "nbformat_minor": 2
}
