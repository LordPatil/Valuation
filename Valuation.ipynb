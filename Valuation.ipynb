{
 "cells": [
  {
   "cell_type": "markdown",
   "metadata": {},
   "source": [
    "Revenue growth rate"
   ]
  },
  {
   "cell_type": "code",
   "execution_count": 72,
   "metadata": {},
   "outputs": [],
   "source": [
    "# Inputs\n",
    "rev_gr_1 = 12/100  # Revenue growth rate for year 1\n",
    "cagr_2_5 = 12/100   # CAGR for years 2-5\n",
    "risk_free_rate = 4.08/100 # Risk free rate\n",
    "rev_r12m = 574785 # Revenue for the last 12 months (in millions)\n",
    "ebit_r12m = 36852 # EBIT for the last 12 months (in millions)\n",
    "rnd_amr_yrs = 3 # R&D amortization years\n",
    "curr_rnd = 85622 # Current R&D (in millions)\n",
    "prev_rnd = [73213, 56052, 42740, 0, 0, 0, 0, 0, 0, 0] # Previous R&D (in millions)\n",
    "#ebit_margin_1 = 11.33/100 # Operating margin for year 1 \n",
    "tgt_ebit_margin = 14/100 # Target Pre-tax Operating margin\n",
    "yr_conv_margin = 5 # Years to convert to target margin"
   ]
  },
  {
   "cell_type": "markdown",
   "metadata": {},
   "source": [
    "Growth rates list"
   ]
  },
  {
   "cell_type": "code",
   "execution_count": 34,
   "metadata": {},
   "outputs": [
    {
     "name": "stdout",
     "output_type": "stream",
     "text": [
      "[0.12, 0.12, 0.12, 0.12, 0.12, 0.10416, 0.08832, 0.07247999999999999, 0.056639999999999996, 0.0408]\n"
     ]
    }
   ],
   "source": [
    "# Create a list of 10 growth rates\n",
    "growth_rates = [rev_gr_1]  # First year growth rate\n",
    "\n",
    "# Year two to five will be cagr_2_5\n",
    "growth_rates.extend([cagr_2_5] * 4)\n",
    "\n",
    "# Calculate the decrement for years six to ten\n",
    "decrement = (cagr_2_5 - risk_free_rate) / 5\n",
    "\n",
    "# Year six to ten growth rates\n",
    "for i in range(1, 6):\n",
    "    growth_rates.append(cagr_2_5 - decrement * i)\n",
    "\n",
    "print(growth_rates)"
   ]
  },
  {
   "cell_type": "markdown",
   "metadata": {},
   "source": [
    "Revenues list"
   ]
  },
  {
   "cell_type": "code",
   "execution_count": 35,
   "metadata": {},
   "outputs": [
    {
     "name": "stdout",
     "output_type": "stream",
     "text": [
      "[643759.2000000001, 721010.3040000001, 807531.5404800002, 904435.3253376003, 1012967.5643781124, 1118478.2658837365, 1217262.266326588, 1305489.4353899392, 1379432.3570104255, 1435713.1971764509]\n"
     ]
    }
   ],
   "source": [
    "revenues = [rev_r12m * (1 + growth_rates[0])]  # Revenue for year 1\n",
    "\n",
    "# Calculate revenues for subsequent years\n",
    "for i in range(1, len(growth_rates)):\n",
    "    revenues.append(revenues[-1] * (1 + growth_rates[i]))\n",
    "\n",
    "print(revenues) "
   ]
  },
  {
   "cell_type": "markdown",
   "metadata": {},
   "source": [
    "Amortization weights"
   ]
  },
  {
   "cell_type": "code",
   "execution_count": 36,
   "metadata": {},
   "outputs": [
    {
     "name": "stdout",
     "output_type": "stream",
     "text": [
      "[1.0, 0.6666666666666666, 0.3333333333333333]\n"
     ]
    }
   ],
   "source": [
    "# Calculate the number of non-zero entries in prev_rnd\n",
    "non_zero_entries = sum(1 for rnd in prev_rnd if rnd != 0)\n",
    "\n",
    "# Calculate the amortization weights\n",
    "amortization_weights = [i / non_zero_entries for i in range(non_zero_entries, 0, -1)]\n",
    "\n",
    "print(amortization_weights)"
   ]
  },
  {
   "cell_type": "code",
   "execution_count": 37,
   "metadata": {},
   "outputs": [
    {
     "data": {
      "text/plain": [
       "153114.66666666666"
      ]
     },
     "execution_count": 37,
     "metadata": {},
     "output_type": "execute_result"
    }
   ],
   "source": [
    "# Value of research asset\n",
    "val_rnd = sum(a * b for a, b in zip(([curr_rnd] + prev_rnd)[:len(amortization_weights)], amortization_weights))\n",
    "val_rnd"
   ]
  },
  {
   "cell_type": "code",
   "execution_count": 38,
   "metadata": {},
   "outputs": [
    {
     "data": {
      "text/plain": [
       "57335.0"
      ]
     },
     "execution_count": 38,
     "metadata": {},
     "output_type": "execute_result"
    }
   ],
   "source": [
    "#Amortization for this year\n",
    "sum_prev_rnd = sum([rnd / rnd_amr_yrs for rnd in prev_rnd])\n",
    "sum_prev_rnd"
   ]
  },
  {
   "cell_type": "code",
   "execution_count": 39,
   "metadata": {},
   "outputs": [
    {
     "data": {
      "text/plain": [
       "28287.0"
      ]
     },
     "execution_count": 39,
     "metadata": {},
     "output_type": "execute_result"
    }
   ],
   "source": [
    "# Adjustment to EBIT due to R&D\n",
    "adj_ebit = curr_rnd - sum_prev_rnd\n",
    "adj_ebit"
   ]
  },
  {
   "cell_type": "markdown",
   "metadata": {},
   "source": [
    "Adjusted operating income"
   ]
  },
  {
   "cell_type": "code",
   "execution_count": 41,
   "metadata": {},
   "outputs": [
    {
     "data": {
      "text/plain": [
       "65139.0"
      ]
     },
     "execution_count": 41,
     "metadata": {},
     "output_type": "execute_result"
    }
   ],
   "source": [
    "# Adjusted EBIT (Base Year)\n",
    "if curr_rnd != 0:\n",
    "    ebit_adj = ebit_r12m + adj_ebit\n",
    "else: \n",
    "    ebit_adj = ebit_r12m\n",
    "ebit_adj"
   ]
  },
  {
   "cell_type": "markdown",
   "metadata": {},
   "source": [
    "Operating Margins"
   ]
  },
  {
   "cell_type": "code",
   "execution_count": 68,
   "metadata": {},
   "outputs": [],
   "source": [
    "ebit_margin_0 = ebit_adj / rev_r12m\n",
    "ebit_margin_1 = ebit_margin_0 # Assuming same margin for year 1"
   ]
  },
  {
   "cell_type": "code",
   "execution_count": 69,
   "metadata": {},
   "outputs": [
    {
     "name": "stdout",
     "output_type": "stream",
     "text": [
      "[0.11332759205616012, 0.12399655523369607, 0.12933103682246405, 0.13466551841123203, 0.14, 0.14, 0.14, 0.14, 0.14, 0.14, 0.14]\n"
     ]
    }
   ],
   "source": [
    "# Initialize the list with the operating margin for the first year\n",
    "operating_margins = [ebit_margin_1]\n",
    "\n",
    "# Calculate the step change for the operating margin\n",
    "step_change = (tgt_ebit_margin - ebit_margin_1) / (yr_conv_margin)\n",
    "\n",
    "# Calculate the operating margins for years 2 to the year of convergence\n",
    "for i in range(1, yr_conv_margin):\n",
    "    operating_margins.append(tgt_ebit_margin - step_change*(yr_conv_margin - i - 1))\n",
    "\n",
    "# From the year of convergence onwards, the operating margin remains the same as the target one\n",
    "operating_margins.extend([tgt_ebit_margin] * (10 - yr_conv_margin + 1))\n",
    "\n",
    "print(operating_margins)"
   ]
  },
  {
   "cell_type": "markdown",
   "metadata": {},
   "source": [
    "Operating Income"
   ]
  },
  {
   "cell_type": "code",
   "execution_count": 71,
   "metadata": {},
   "outputs": [
    {
     "name": "stdout",
     "output_type": "stream",
     "text": [
      "[72955.68000000001, 89402.793984, 104438.89139712002, 121796.25195601924, 141815.45901293575, 156586.95722372312, 170416.71728572235, 182768.5209545915, 193120.5299814596, 200999.84760470313]\n"
     ]
    }
   ],
   "source": [
    "ebits = [revenue * margin for revenue, margin in zip(revenues, operating_margins)]\n",
    "print(ebits)"
   ]
  },
  {
   "cell_type": "code",
   "execution_count": null,
   "metadata": {},
   "outputs": [],
   "source": []
  },
  {
   "cell_type": "code",
   "execution_count": null,
   "metadata": {},
   "outputs": [],
   "source": []
  }
 ],
 "metadata": {
  "kernelspec": {
   "display_name": "Python 3",
   "language": "python",
   "name": "python3"
  },
  "language_info": {
   "codemirror_mode": {
    "name": "ipython",
    "version": 3
   },
   "file_extension": ".py",
   "mimetype": "text/x-python",
   "name": "python",
   "nbconvert_exporter": "python",
   "pygments_lexer": "ipython3",
   "version": "3.12.8"
  }
 },
 "nbformat": 4,
 "nbformat_minor": 2
}
