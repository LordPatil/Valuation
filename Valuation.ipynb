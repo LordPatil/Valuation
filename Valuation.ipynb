{
 "cells": [
  {
   "cell_type": "markdown",
   "metadata": {},
   "source": [
    "# Company Valuation Notebook\n",
    "\n",
    "This Jupyter Notebook is designed to perform a company valuation based on a set of financial inputs and assumptions. The notebook calculates various financial metrics and ultimately provides the value per share of the company. It is an extension of Damodaran's fcffsimpleginzu spreadsheet. As of now, only default assumptions are at play and key metrics like cost of capital needs to be entered manually. I will try to a provision of that too in the future\n",
    "\n",
    "## Inputs\n",
    "The inputs required for this valuation are provided in the below section of the notebook. These inputs include:\n",
    "\n",
    "- Revenue growth rate for year 1 (`rev_gr_1`)\n",
    "- Compound Annual Growth Rate (CAGR) for years 2-5 (`cagr_2_5`)\n",
    "- Risk-free rate (`risk_free_rate`)\n",
    "- Revenue for the last 12 months (`rev_r12m`)\n",
    "- EBIT for the last 12 months (`ebit_r12m`)\n",
    "- R&D amortization years (`rnd_amr_yrs`)\n",
    "- Current R&D (`curr_rnd`)\n",
    "- Previous R&D (`prev_rnd`)\n",
    "- Target Pre-tax Operating margin (`tgt_ebit_margin`)\n",
    "- Years to convert to target margin (`yr_conv_margin`)\n",
    "- Effective tax rate (`eff_tx_rate`)\n",
    "- Marginal tax rate (`mar_tax_rate`)\n",
    "- Sales to capital ratio for years 1-5 (`sales_to_cap_1_5`)\n",
    "- Sales to capital ratio for years 6-10 (`sales_to_cap_6_10`)\n",
    "- Mature market Equity Risk Premium (ERP) (`mature_market_erp`)\n",
    "- Country ERP (`country_risk_premium`)\n",
    "- Cost of capital (`cost_of_capital`)\n",
    "- Probability of failure (`prob_failure`)\n",
    "- Book value of debt (`book_val_debt`)\n",
    "- Cash and marketable securities (`cash`)\n",
    "- Non-operating assets (`non_op_assets`)\n",
    "- Minority interests (`minority_interests`)\n",
    "- Shares outstanding (`shares_out`)\n",
    "\n",
    "## Description\n",
    "This notebook performs the following calculations:\n",
    "\n",
    "1. **Growth Rates**: Calculates the growth rates for the next 10 years.\n",
    "2. **Revenues**: Projects the revenues for the next 10 years based on the growth rates.\n",
    "3. **Amortization Weights**: Calculates the amortization weights for R&D expenses.\n",
    "4. **Value of Research Asset**: Computes the value of the research asset.\n",
    "5. **Adjusted EBIT**: Adjusts the EBIT for R&D expenses.\n",
    "6. **Operating Margins**: Projects the operating margins for the next 10 years.\n",
    "7. **Operating Income**: Calculates the operating income (EBIT) for the next 10 years.\n",
    "8. **Tax Rates**: Projects the tax rates for the next 10 years.\n",
    "9. **EBIT(1-tax)**: Calculates the after-tax EBIT for the next 10 years.\n",
    "10. **Reinvestment**: Computes the reinvestment required for the next 10 years.\n",
    "11. **Free Cash Flow to Firm (FCFF)**: Calculates the FCFF for the next 10 years.\n",
    "12. **Cost of Capital**: Projects the cost of capital for the next 10 years.\n",
    "13. **Discount Factors**: Computes the discount factors for the next 10 years.\n",
    "14. **Present Value of FCFF**: Calculates the present value of FCFF for the next 10 years.\n",
    "15. **Terminal Year Calculations**: Computes the terminal value and its present value.\n",
    "16. **Valuation**: Calculates the value of operating assets, equity, and value per share.\n",
    "\n",
    "## Default assumptions\n",
    "1. In stable growth, I will assume that your firm will have a cost of capital similar to that of typical mature companies\n",
    "2. I will assume that your firm will earn a return on capital equal to its cost of capital after year 10. I am assuming that whatever competitive advantages you have today will fade over time.\n",
    "3. I will assume that your firm has no chance of failure over the foreseeable future.\n",
    "4. I assume that reinvestment in a year translates into growth in the next year, i.e., there is a one year lag between reinvesting and generating growth from that reinvestment.\n",
    "5. I will assume that your effective tax rate will adjust to your marginal tax rate by your terminal year. If you override this assumption, I will leave the tax rate at your effective tax rate.\n",
    "6. I will assume that you have no losses carried forward from prior years ( NOL) coming into the valuation. If you have a money losing company, you may want to override this.\n",
    "7. I will asssume that today's risk free rate will prevail in perpetuity. If you override this assumption, I will change the riskfree rate after year 10. (**Override feature unavailable as of now**)\n",
    "8. I will assume that the growth rate in perpetuity will be equal to the risk free rate. This allows for both valuation consistency and prevents \"impossible\" growth rates.\n",
    "9. I have assumed that none of the cash is trapped (in foreign countries) and that there is no additional tax liability coming due and that cash is a neutral asset.\n",
    "\n"
   ]
  },
  {
   "cell_type": "code",
   "execution_count": 49,
   "metadata": {},
   "outputs": [],
   "source": [
    "# Inputs\n",
    "rev_gr_1 = 12/100  # Revenue growth rate for year 1\n",
    "cagr_2_5 = 12/100   # CAGR for years 2-5\n",
    "risk_free_rate = 4.08/100 # Risk free rate\n",
    "rev_r12m = 574785 # Revenue for the last 12 months (in millions)\n",
    "ebit_r12m = 36852 # EBIT for the last 12 months (in millions)\n",
    "rnd_amr_yrs = 3 # R&D amortization years\n",
    "curr_rnd = 85622 # Current R&D (in millions)\n",
    "prev_rnd = [73213, 56052, 42740, 0, 0, 0, 0, 0, 0, 0] # Previous R&D (in millions)\n",
    "#ebit_margin_1 = 11.33/100 # Operating margin for year 1 (Calculated below in Operating margin section)\n",
    "tgt_ebit_margin = 14/100 # Target Pre-tax Operating margin\n",
    "yr_conv_margin = 5 # Years to convert to target margin\n",
    "eff_tx_rate = 19/100 # Effective tax rate\n",
    "mar_tax_rate = 25/100 # Marginal tax rate\n",
    "sales_to_cap_1_5 = 1.5 # Sales to capital ratio Years 1-5\n",
    "sales_to_cap_6_10 = 1.5 # Sales to capital ratio Years 6-10\n",
    "mature_market_erp = 4.11/100 # Mature market ERP (Damodaran)\n",
    "country_risk_premium = 0 # Country ERP (For US)\n",
    "cost_of_capital = 8.6/100 # Cost of capital\n",
    "prob_failure = 0 # Probability of failure\n",
    "book_val_debt = 161574 # Book value of debt (in millions)\n",
    "cash = 86780 # Cash and marketable securities (in millions)\n",
    "non_op_assets = 2954 # Cross holdings and other Non-operating assets (in millions)\n",
    "minority_interests = 0 # Minority interests (in millions)\n",
    "shares_out = 10492 # Shares outstanding (in millions)"
   ]
  },
  {
   "cell_type": "markdown",
   "metadata": {},
   "source": [
    "Growth rates list"
   ]
  },
  {
   "cell_type": "code",
   "execution_count": 50,
   "metadata": {},
   "outputs": [
    {
     "name": "stdout",
     "output_type": "stream",
     "text": [
      "[0.12, 0.12, 0.12, 0.12, 0.12, 0.10416, 0.08832, 0.07247999999999999, 0.056639999999999996, 0.0408]\n"
     ]
    }
   ],
   "source": [
    "# Create a list of 10 growth rates\n",
    "growth_rates = [rev_gr_1]  # First year growth rate\n",
    "\n",
    "# Year two to five will be cagr_2_5\n",
    "growth_rates.extend([cagr_2_5] * 4)\n",
    "\n",
    "# Calculate the decrement for years six to ten\n",
    "decrement = (cagr_2_5 - risk_free_rate) / 5\n",
    "\n",
    "# Year six to ten growth rates\n",
    "for i in range(1, 6):\n",
    "    growth_rates.append(cagr_2_5 - decrement * i)\n",
    "\n",
    "print(growth_rates)"
   ]
  },
  {
   "cell_type": "markdown",
   "metadata": {},
   "source": [
    "Revenues list"
   ]
  },
  {
   "cell_type": "code",
   "execution_count": 51,
   "metadata": {},
   "outputs": [
    {
     "name": "stdout",
     "output_type": "stream",
     "text": [
      "[643759.2000000001, 721010.3040000001, 807531.5404800002, 904435.3253376003, 1012967.5643781124, 1118478.2658837365, 1217262.266326588, 1305489.4353899392, 1379432.3570104255, 1435713.1971764509]\n"
     ]
    }
   ],
   "source": [
    "revenues = [rev_r12m * (1 + growth_rates[0])]  # Revenue for year 1\n",
    "\n",
    "# Calculate revenues for subsequent years\n",
    "for i in range(1, len(growth_rates)):\n",
    "    revenues.append(revenues[-1] * (1 + growth_rates[i]))\n",
    "\n",
    "print(revenues) "
   ]
  },
  {
   "cell_type": "markdown",
   "metadata": {},
   "source": [
    "Amortization weights"
   ]
  },
  {
   "cell_type": "code",
   "execution_count": 52,
   "metadata": {},
   "outputs": [
    {
     "name": "stdout",
     "output_type": "stream",
     "text": [
      "[1.0, 0.6666666666666666, 0.3333333333333333]\n"
     ]
    }
   ],
   "source": [
    "# Calculate the number of non-zero entries in prev_rnd\n",
    "non_zero_entries = sum(1 for rnd in prev_rnd if rnd != 0)\n",
    "\n",
    "# Calculate the amortization weights\n",
    "amortization_weights = [i / non_zero_entries for i in range(non_zero_entries, 0, -1)]\n",
    "\n",
    "print(amortization_weights)"
   ]
  },
  {
   "cell_type": "code",
   "execution_count": 53,
   "metadata": {},
   "outputs": [
    {
     "data": {
      "text/plain": [
       "153114.66666666666"
      ]
     },
     "execution_count": 53,
     "metadata": {},
     "output_type": "execute_result"
    }
   ],
   "source": [
    "# Value of research asset\n",
    "val_rnd = sum(a * b for a, b in zip(([curr_rnd] + prev_rnd)[:len(amortization_weights)], amortization_weights))\n",
    "val_rnd"
   ]
  },
  {
   "cell_type": "code",
   "execution_count": 54,
   "metadata": {},
   "outputs": [
    {
     "data": {
      "text/plain": [
       "57335.0"
      ]
     },
     "execution_count": 54,
     "metadata": {},
     "output_type": "execute_result"
    }
   ],
   "source": [
    "#Amortization for this year\n",
    "sum_prev_rnd = sum([rnd / rnd_amr_yrs for rnd in prev_rnd])\n",
    "sum_prev_rnd"
   ]
  },
  {
   "cell_type": "code",
   "execution_count": 55,
   "metadata": {},
   "outputs": [
    {
     "data": {
      "text/plain": [
       "28287.0"
      ]
     },
     "execution_count": 55,
     "metadata": {},
     "output_type": "execute_result"
    }
   ],
   "source": [
    "# Adjustment to EBIT due to R&D\n",
    "adj_ebit = curr_rnd - sum_prev_rnd\n",
    "adj_ebit"
   ]
  },
  {
   "cell_type": "markdown",
   "metadata": {},
   "source": [
    "Adjusted operating income"
   ]
  },
  {
   "cell_type": "code",
   "execution_count": 56,
   "metadata": {},
   "outputs": [
    {
     "data": {
      "text/plain": [
       "65139.0"
      ]
     },
     "execution_count": 56,
     "metadata": {},
     "output_type": "execute_result"
    }
   ],
   "source": [
    "# Adjusted EBIT (Base Year)\n",
    "if curr_rnd != 0:\n",
    "    ebit_adj = ebit_r12m + adj_ebit\n",
    "else: \n",
    "    ebit_adj = ebit_r12m\n",
    "ebit_adj"
   ]
  },
  {
   "cell_type": "markdown",
   "metadata": {},
   "source": [
    "Operating Margins"
   ]
  },
  {
   "cell_type": "code",
   "execution_count": 57,
   "metadata": {},
   "outputs": [],
   "source": [
    "ebit_margin_0 = ebit_adj / rev_r12m\n",
    "ebit_margin_1 = ebit_margin_0 # Assuming same margin for year 1"
   ]
  },
  {
   "cell_type": "code",
   "execution_count": 58,
   "metadata": {},
   "outputs": [
    {
     "name": "stdout",
     "output_type": "stream",
     "text": [
      "[0.11332759205616012, 0.12399655523369607, 0.12933103682246405, 0.13466551841123203, 0.14, 0.14, 0.14, 0.14, 0.14, 0.14, 0.14]\n"
     ]
    }
   ],
   "source": [
    "# Initialize the list with the operating margin for the first year\n",
    "operating_margins = [ebit_margin_1]\n",
    "\n",
    "# Calculate the step change for the operating margin\n",
    "step_change = (tgt_ebit_margin - ebit_margin_1) / (yr_conv_margin)\n",
    "\n",
    "# Calculate the operating margins for years 2 to the year of convergence\n",
    "for i in range(1, yr_conv_margin):\n",
    "    operating_margins.append(tgt_ebit_margin - step_change*(yr_conv_margin - i - 1))\n",
    "\n",
    "# From the year of convergence onwards, the operating margin remains the same as the target one\n",
    "operating_margins.extend([tgt_ebit_margin] * (10 - yr_conv_margin + 1))\n",
    "\n",
    "print(operating_margins)"
   ]
  },
  {
   "cell_type": "markdown",
   "metadata": {},
   "source": [
    "Operating Income"
   ]
  },
  {
   "cell_type": "code",
   "execution_count": 59,
   "metadata": {},
   "outputs": [
    {
     "name": "stdout",
     "output_type": "stream",
     "text": [
      "[72955.68000000001, 89402.793984, 104438.89139712002, 121796.25195601924, 141815.45901293575, 156586.95722372312, 170416.71728572235, 182768.5209545915, 193120.5299814596, 200999.84760470313]\n"
     ]
    }
   ],
   "source": [
    "ebits = [revenue * margin for revenue, margin in zip(revenues, operating_margins)]\n",
    "print(ebits)"
   ]
  },
  {
   "cell_type": "code",
   "execution_count": 60,
   "metadata": {},
   "outputs": [
    {
     "name": "stdout",
     "output_type": "stream",
     "text": [
      "[0.19, 0.19, 0.19, 0.19, 0.19, 0.202, 0.214, 0.226, 0.238, 0.25]\n"
     ]
    }
   ],
   "source": [
    "# Initialize the list with the effective tax rate for the first 5 years\n",
    "tax_rates = [eff_tx_rate] * 5\n",
    "\n",
    "# Calculate the step change for the tax rate\n",
    "tax_rate_step_change = (mar_tax_rate - eff_tx_rate) / 5\n",
    "\n",
    "# Calculate the tax rates for years 6 to 10\n",
    "for i in range(1, 6):\n",
    "    tax_rates.append(eff_tx_rate + tax_rate_step_change * i)\n",
    "\n",
    "print(tax_rates)"
   ]
  },
  {
   "cell_type": "markdown",
   "metadata": {},
   "source": [
    "EBIT(1-tax)"
   ]
  },
  {
   "cell_type": "code",
   "execution_count": 61,
   "metadata": {},
   "outputs": [
    {
     "name": "stdout",
     "output_type": "stream",
     "text": [
      "[59094.10080000001, 72416.26312704, 84595.50203166723, 98654.96408437559, 114870.52180047797, 124956.39186453106, 133947.53978657778, 141462.83521885384, 147157.8438458722, 150749.88570352734]\n"
     ]
    }
   ],
   "source": [
    "ebit_minus_tax = [ebit * (1 - tax_rate) for ebit, tax_rate in zip(ebits, tax_rates)]\n",
    "print(ebit_minus_tax)"
   ]
  },
  {
   "cell_type": "markdown",
   "metadata": {},
   "source": [
    "Reinvestment"
   ]
  },
  {
   "cell_type": "code",
   "execution_count": null,
   "metadata": {},
   "outputs": [],
   "source": []
  },
  {
   "cell_type": "code",
   "execution_count": 62,
   "metadata": {},
   "outputs": [
    {
     "name": "stdout",
     "output_type": "stream",
     "text": [
      "[51500.73600000003, 57680.82432000005, 64602.52323840008, 72354.82602700808, 70340.46767041607, 65856.00029523438, 58818.11270890074, 49295.2810803242, 37520.56011068355, 39051.39896319946]\n"
     ]
    }
   ],
   "source": [
    "# Initialize the list of reinvestment\n",
    "reinvestment = []\n",
    "\n",
    "# Calculate reinvestment for years 1 to 5 using sales_to_cap_1_5\n",
    "for i in range(5):\n",
    "    reinvestment.append((revenues[i + 1] - revenues[i]) / sales_to_cap_1_5)\n",
    "\n",
    "# Calculate reinvestment for years 6 to 9 using sales_to_cap_6_10\n",
    "for i in range(5, 9):\n",
    "    reinvestment.append((revenues[i + 1] - revenues[i]) / sales_to_cap_6_10)\n",
    "\n",
    "# Calculate terminal year revenue\n",
    "terminal_year_revenue = revenues[9] * (1 + risk_free_rate)\n",
    "\n",
    "# Calculate reinvestment for year 10\n",
    "reinvestment.append((terminal_year_revenue - revenues[9]) / sales_to_cap_6_10)\n",
    "\n",
    "print(reinvestment)"
   ]
  },
  {
   "cell_type": "markdown",
   "metadata": {},
   "source": [
    "FCFF"
   ]
  },
  {
   "cell_type": "code",
   "execution_count": 63,
   "metadata": {},
   "outputs": [
    {
     "name": "stdout",
     "output_type": "stream",
     "text": [
      "[7593.364799999974, 14735.438807039951, 19992.978793267153, 26300.138057367512, 44530.05413006191, 59100.391569296684, 75129.42707767704, 92167.55413852964, 109637.28373518866, 111698.48674032788]\n"
     ]
    }
   ],
   "source": [
    "fcff = [ebit - reinvest for ebit, reinvest in zip(ebit_minus_tax, reinvestment)]\n",
    "print(fcff)"
   ]
  },
  {
   "cell_type": "markdown",
   "metadata": {},
   "source": [
    "Terminal cost of capital"
   ]
  },
  {
   "cell_type": "code",
   "execution_count": 64,
   "metadata": {},
   "outputs": [],
   "source": [
    "terminal_cost_of_capital = risk_free_rate + mature_market_erp + country_risk_premium"
   ]
  },
  {
   "cell_type": "code",
   "execution_count": 65,
   "metadata": {},
   "outputs": [
    {
     "name": "stdout",
     "output_type": "stream",
     "text": [
      "[0.086, 0.086, 0.086, 0.086, 0.086, 0.08517999999999999, 0.08435999999999999, 0.08354, 0.08272, 0.0819]\n"
     ]
    }
   ],
   "source": [
    "# Initialize the list with the cost of capital for the first 5 years\n",
    "cost_of_capital_list = [cost_of_capital] * 5\n",
    "\n",
    "# Calculate the step change for the cost of capital\n",
    "cost_of_capital_step_change = (terminal_cost_of_capital - cost_of_capital) / 5\n",
    "\n",
    "# Calculate the cost of capital for years 6 to 10\n",
    "for i in range(1, 6):\n",
    "    cost_of_capital_list.append(cost_of_capital + cost_of_capital_step_change * i)\n",
    "\n",
    "print(cost_of_capital_list)"
   ]
  },
  {
   "cell_type": "code",
   "execution_count": 66,
   "metadata": {},
   "outputs": [
    {
     "name": "stdout",
     "output_type": "stream",
     "text": [
      "[0.9208103130755064, 0.8478916326662121, 0.7807473597294771, 0.7189202207453748, 0.6619891535408607, 0.6100270494672412, 0.562568749739239, 0.5191951840626456, 0.4795285799307722, 0.44322819108122025]\n"
     ]
    }
   ],
   "source": [
    "# Initialize the list of discount factors with the first year's discount factor\n",
    "discount_factors = [1 / (1 + cost_of_capital_list[0])]\n",
    "\n",
    "# Calculate the discount factors for subsequent years\n",
    "for i in range(1, 10):\n",
    "    discount_factors.append(discount_factors[-1] / (1 + cost_of_capital_list[i]))\n",
    "\n",
    "print(discount_factors)"
   ]
  },
  {
   "cell_type": "markdown",
   "metadata": {},
   "source": [
    "Present value of FCFF"
   ]
  },
  {
   "cell_type": "code",
   "execution_count": 67,
   "metadata": {},
   "outputs": [
    {
     "name": "stdout",
     "output_type": "stream",
     "text": [
      "[6992.048618784506, 12494.055268154165, 15609.465405970757, 18907.701057836483, 29478.412840688394, 36052.837491376675, 42265.4678597141, 47852.95023555775, 52574.21097700216, 49507.91822442519]\n"
     ]
    }
   ],
   "source": [
    "pv_fcff = [fcf * discount_factor for fcf, discount_factor in zip(fcff, discount_factors)]\n",
    "print(pv_fcff)"
   ]
  },
  {
   "cell_type": "markdown",
   "metadata": {},
   "source": [
    "Terminal Year"
   ]
  },
  {
   "cell_type": "code",
   "execution_count": 68,
   "metadata": {},
   "outputs": [
    {
     "name": "stdout",
     "output_type": "stream",
     "text": [
      "Terminal EBIT: 209200.64\n",
      "Terminal EBIT minus Tax: 156900.48\n",
      "Terminal Reinvestment: 78162.88\n",
      "Terminal FCFF: 78737.60\n",
      "Terminal Value: 1915756.79\n",
      "Present Value of terminal Value: 849117.42\n",
      "Sum of Present Value of FCFF: 311735.07\n",
      "Value of Operating Assets: 1160852.48\n",
      "Value of Equity: 1089012.48\n",
      "Value per Share: 103.79\n"
     ]
    }
   ],
   "source": [
    "terminal_ebit = terminal_year_revenue * tgt_ebit_margin\n",
    "terminal_ebit_minus_tax = terminal_ebit * (1 - mar_tax_rate)\n",
    "terminal_reinvestment = (risk_free_rate/terminal_cost_of_capital) * terminal_ebit_minus_tax\n",
    "terminal_fcff = terminal_ebit_minus_tax - terminal_reinvestment\n",
    "terminal_value = terminal_fcff / (terminal_cost_of_capital - risk_free_rate)\n",
    "pv_terminal_value = terminal_value * discount_factors[-1]\n",
    "pv_fcff_sum = sum(pv_fcff) \n",
    "sum_pv = pv_fcff_sum + pv_terminal_value\n",
    "val_op_assets = sum_pv # Add Probability of failure assumption here in future\n",
    "val_equity = val_op_assets - book_val_debt - minority_interests + cash + non_op_assets \n",
    "val_per_share = val_equity / shares_out\n",
    "print(f\"Terminal EBIT: {terminal_ebit:.2f}\")\n",
    "print(f\"Terminal EBIT minus Tax: {terminal_ebit_minus_tax:.2f}\")\n",
    "print(f\"Terminal Reinvestment: {terminal_reinvestment:.2f}\")\n",
    "print(f\"Terminal FCFF: {terminal_fcff:.2f}\")\n",
    "print(f\"Terminal Value: {terminal_value:.2f}\")\n",
    "print(f\"Present Value of terminal Value: {pv_terminal_value:.2f}\")\n",
    "print(f\"Sum of Present Value of FCFF: {pv_fcff_sum:.2f}\")\n",
    "print(f\"Value of Operating Assets: {val_op_assets:.2f}\")\n",
    "print(f\"Value of Equity: {val_equity:.2f}\")\n",
    "print(f\"Value per Share: {val_per_share:.2f}\")"
   ]
  }
 ],
 "metadata": {
  "kernelspec": {
   "display_name": "Python 3",
   "language": "python",
   "name": "python3"
  },
  "language_info": {
   "codemirror_mode": {
    "name": "ipython",
    "version": 3
   },
   "file_extension": ".py",
   "mimetype": "text/x-python",
   "name": "python",
   "nbconvert_exporter": "python",
   "pygments_lexer": "ipython3",
   "version": "3.12.8"
  }
 },
 "nbformat": 4,
 "nbformat_minor": 2
}
